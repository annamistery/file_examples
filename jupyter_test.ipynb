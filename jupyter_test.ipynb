{
 "cells": [
  {
   "cell_type": "code",
   "execution_count": 1,
   "metadata": {},
   "outputs": [
    {
     "data": {
      "text/plain": [
       "'c:\\\\Users\\\\admin\\\\Downloads\\\\file_examples'"
      ]
     },
     "execution_count": 1,
     "metadata": {},
     "output_type": "execute_result"
    }
   ],
   "source": [
    "import os\n",
    "os.getcwd()"
   ]
  },
  {
   "cell_type": "code",
   "execution_count": 3,
   "metadata": {},
   "outputs": [
    {
     "name": "stdout",
     "output_type": "stream",
     "text": [
      "First line of text\n",
      "Second line of text\n",
      "Third line of text\n"
     ]
    }
   ],
   "source": [
    "with open('example_text.txt', 'r') as file:\n",
    "    content = file.read()\n",
    "    print(content)\n"
   ]
  },
  {
   "cell_type": "code",
   "execution_count": 7,
   "metadata": {},
   "outputs": [
    {
     "name": "stdout",
     "output_type": "stream",
     "text": [
      "['First line of text\\n', 'Second line of text\\n', 'Third line of text']\n"
     ]
    }
   ],
   "source": [
    "with open('example_text.txt', 'r') as file:\n",
    "    lines = file.readlines()\n",
    "    print(lines)\n",
    "    "
   ]
  },
  {
   "cell_type": "code",
   "execution_count": 6,
   "metadata": {},
   "outputs": [
    {
     "name": "stdout",
     "output_type": "stream",
     "text": [
      "['Mercury\\n', 'Venus\\n', 'Eath\\n', 'Mars\\n', 'Jupiter\\n', 'Saturn\\n', 'Uranus\\n', 'Neptune\\n']\n",
      "Neptune  Uranus  Saturn  Jupiter  Mars  Eath  Venus  Mercury  "
     ]
    }
   ],
   "source": [
    "with open('plan.txt', 'r') as file:\n",
    "    lines = file.readlines()\n",
    "    print(lines)\n",
    "for planet in reversed(lines):\n",
    "    print(planet.strip(), end = '  ')    "
   ]
  },
  {
   "cell_type": "code",
   "execution_count": 9,
   "metadata": {},
   "outputs": [
    {
     "name": "stdout",
     "output_type": "stream",
     "text": [
      "Mercury\n",
      "\n",
      "7\n",
      "Venus\n",
      "\n",
      "5\n",
      "Eath\n",
      "\n",
      "4\n",
      "Mars\n",
      "\n",
      "4\n",
      "Jupiter\n",
      "\n",
      "7\n",
      "Saturn\n",
      "\n",
      "6\n",
      "Uranus\n",
      "\n",
      "6\n",
      "Neptune\n",
      "\n",
      "7\n"
     ]
    }
   ],
   "source": [
    "with open('plan.txt', 'r') as file:   \n",
    "    for line in file:\n",
    "        print(line)\n",
    "        print(len(line.strip()))"
   ]
  },
  {
   "cell_type": "code",
   "execution_count": 16,
   "metadata": {},
   "outputs": [],
   "source": [
    "with open('top.txt', 'w') as file:\n",
    "    file.write('Hello, world!\\n')\n",
    "    "
   ]
  },
  {
   "cell_type": "code",
   "execution_count": 17,
   "metadata": {},
   "outputs": [],
   "source": [
    "with open ('top.txt', 'a') as file:\n",
    "    file.write('Hello\\n')"
   ]
  },
  {
   "cell_type": "code",
   "execution_count": 18,
   "metadata": {},
   "outputs": [
    {
     "name": "stdout",
     "output_type": "stream",
     "text": [
      "Hello, world!\n",
      "Hello\n",
      "\n"
     ]
    }
   ],
   "source": [
    "with open('top.txt', 'r') as file:\n",
    "    content = file.read()\n",
    "    print(content)"
   ]
  },
  {
   "cell_type": "code",
   "execution_count": 43,
   "metadata": {},
   "outputs": [
    {
     "name": "stdout",
     "output_type": "stream",
     "text": [
      "['Mercury\\n', 'Venus\\n', 'Eath\\n', 'Mars\\n', 'Jupiter\\n', 'Saturn\\n', 'Uranus\\n', 'Neptune\\n']\n",
      "['Eath\\n', 'Jupiter\\n', 'Mars\\n', 'Mercury\\n', 'Neptune\\n', 'Saturn\\n', 'Uranus\\n', 'Venus\\n']\n"
     ]
    }
   ],
   "source": [
    "with open('plan.txt', 'r') as file:\n",
    "    content = file.readlines()\n",
    "    print(content)\n",
    "    sort = sorted(content)\n",
    "    print(sort)\n",
    "with open('sort_plan.txt', 'w') as file:\n",
    "    for planet in sort:\n",
    "        file.write(planet)\n",
    "        \n",
    "    "
   ]
  },
  {
   "cell_type": "code",
   "execution_count": null,
   "metadata": {},
   "outputs": [],
   "source": []
  }
 ],
 "metadata": {
  "kernelspec": {
   "display_name": "Python 3",
   "language": "python",
   "name": "python3"
  },
  "language_info": {
   "codemirror_mode": {
    "name": "ipython",
    "version": 3
   },
   "file_extension": ".py",
   "mimetype": "text/x-python",
   "name": "python",
   "nbconvert_exporter": "python",
   "pygments_lexer": "ipython3",
   "version": "3.12.2"
  }
 },
 "nbformat": 4,
 "nbformat_minor": 2
}
