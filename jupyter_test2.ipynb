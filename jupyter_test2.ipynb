{
 "cells": [
  {
   "cell_type": "code",
   "execution_count": 1,
   "metadata": {},
   "outputs": [
    {
     "data": {
      "text/plain": [
       "b'hello'"
      ]
     },
     "execution_count": 1,
     "metadata": {},
     "output_type": "execute_result"
    }
   ],
   "source": [
    "'hello'.encode(encoding = 'utf -8')\n"
   ]
  },
  {
   "cell_type": "code",
   "execution_count": 2,
   "metadata": {},
   "outputs": [
    {
     "data": {
      "text/plain": [
       "b'\\xd0\\xbf\\xd1\\x80\\xd0\\xb8\\xd0\\xb2\\xd0\\xb5\\xd1\\x82'"
      ]
     },
     "execution_count": 2,
     "metadata": {},
     "output_type": "execute_result"
    }
   ],
   "source": [
    "'привет'.encode(encoding ='utf-8')"
   ]
  },
  {
   "cell_type": "code",
   "execution_count": 3,
   "metadata": {},
   "outputs": [
    {
     "data": {
      "text/plain": [
       "b'\\xef\\xf0\\xe8\\xe2\\xe5\\xf2, \\xf1\\xee\\xeb\\xed\\xf6\\xe5'"
      ]
     },
     "execution_count": 3,
     "metadata": {},
     "output_type": "execute_result"
    }
   ],
   "source": [
    "'привет, солнце'.encode(encoding='cp1251')"
   ]
  },
  {
   "cell_type": "code",
   "execution_count": 13,
   "metadata": {},
   "outputs": [
    {
     "name": "stdout",
     "output_type": "stream",
     "text": [
      "b'hello'\n",
      "hello\n"
     ]
    }
   ],
   "source": [
    "encode = 'hello'.encode(encoding='utf-8')\n",
    "print(encode)\n",
    "decode = encode.decode(encoding = 'utf-8')\n",
    "print(decode)"
   ]
  },
  {
   "cell_type": "code",
   "execution_count": 14,
   "metadata": {},
   "outputs": [
    {
     "name": "stdout",
     "output_type": "stream",
     "text": [
      "b'\\xd0\\xbf\\xd1\\x80\\xd0\\xb8\\xd0\\xb2\\xd0\\xb5\\xd1\\x82, \\xd1\\x81\\xd0\\xbe\\xd0\\xbb\\xd0\\xbd\\xd1\\x86\\xd0\\xb5'\n",
      "привет, солнце\n"
     ]
    }
   ],
   "source": [
    "encode = 'привет, солнце'.encode(encoding = 'utf-8')\n",
    "print(encode)\n",
    "decode = encode.decode(encoding = 'utf-8')   \n",
    "print(decode)                     "
   ]
  },
  {
   "cell_type": "code",
   "execution_count": 15,
   "metadata": {},
   "outputs": [
    {
     "data": {
      "text/plain": [
       "{'encoding': 'windows-1251', 'confidence': 0.99, 'language': 'Russian'}"
      ]
     },
     "execution_count": 15,
     "metadata": {},
     "output_type": "execute_result"
    }
   ],
   "source": [
    "import chardet\n",
    "chardet.detect(b'\\xef\\xf0\\xe8\\xe2\\xe5\\xf2, \\xf1\\xee\\xeb\\xed\\xf6\\xe5')"
   ]
  },
  {
   "cell_type": "code",
   "execution_count": 16,
   "metadata": {},
   "outputs": [
    {
     "data": {
      "text/plain": [
       "b'\\xef\\xf0\\xe8\\xe2\\xe5\\xf2'"
      ]
     },
     "execution_count": 16,
     "metadata": {},
     "output_type": "execute_result"
    }
   ],
   "source": [
    "'привет'.encode(encoding = 'windows-1251')"
   ]
  },
  {
   "cell_type": "code",
   "execution_count": 21,
   "metadata": {},
   "outputs": [
    {
     "name": "stdout",
     "output_type": "stream",
     "text": [
      "['But soft what light through yonder window breaks', 'It is the east and Juliet is the sun', 'Arise fair sun and kill the envious moon', 'Who is already sick and pale with grief']\n"
     ]
    }
   ],
   "source": [
    "import urllib.request\n",
    "\n",
    "def url_open(url):\n",
    "    lst = list()\n",
    "    try:\n",
    "        #webpage содержит информацию о файле\n",
    "        with urllib.request.urlopen(url) as webpage:\n",
    "            for line in webpage:\n",
    "                line = line.decode('utf-8')\n",
    "                line = line.strip()\n",
    "                lst.append(line)\n",
    "        return lst\n",
    "    except Exception as e:\n",
    "        return e\n",
    "if __name__ == '__main__':\n",
    "    s = 'http://dfedorov.spb.ru/python3/src/romeo.txt'\n",
    "    print(url_open(s))            "
   ]
  },
  {
   "cell_type": "code",
   "execution_count": 38,
   "metadata": {},
   "outputs": [],
   "source": [
    "def histogram(s):\n",
    "    d = dict()\n",
    "    for c in s:\n",
    "        if c not in d:\n",
    "            d[c] = 1\n",
    "        else:\n",
    "            d[c]+= 1 \n",
    "    return d        "
   ]
  },
  {
   "cell_type": "code",
   "execution_count": 34,
   "metadata": {},
   "outputs": [],
   "source": [
    "\n",
    "def read_url(url):\n",
    "    import urllib.request\n",
    "    try:\n",
    "        with urllib.request.urlopen(url) as webpage:\n",
    "            text = webpage.read().decode('utf-8')\n",
    "        return text\n",
    "    except:\n",
    "        return ''\n",
    "if __name__ == \"main\":\n",
    "    url = 'http://dfedorov.spb.ru/python3/src/romeo.txt'\n",
    "    print(read_url(url))\n",
    "    print(histogram(read_url(url).split())) "
   ]
  },
  {
   "cell_type": "code",
   "execution_count": 39,
   "metadata": {},
   "outputs": [
    {
     "name": "stdout",
     "output_type": "stream",
     "text": [
      "['But', 'soft', 'what', 'light', 'through', 'yonder', 'window', 'breaks', 'It', 'is', 'the', 'east', 'and', 'Juliet', 'is', 'the', 'sun', 'Arise', 'fair', 'sun', 'and', 'kill', 'the', 'envious', 'moon', 'Who', 'is', 'already', 'sick', 'and', 'pale', 'with', 'grief']\n",
      "{'But': 1, 'soft': 1, 'what': 1, 'light': 1, 'through': 1, 'yonder': 1, 'window': 1, 'breaks': 1, 'It': 1, 'is': 3, 'the': 3, 'east': 1, 'and': 3, 'Juliet': 1, 'sun': 2, 'Arise': 1, 'fair': 1, 'kill': 1, 'envious': 1, 'moon': 1, 'Who': 1, 'already': 1, 'sick': 1, 'pale': 1, 'with': 1, 'grief': 1}\n"
     ]
    }
   ],
   "source": [
    "url = 'http://dfedorov.spb.ru/python3/src/romeo.txt'\n",
    "s = read_url(url). split()\n",
    "print (s)\n",
    "print(histogram(s)) "
   ]
  },
  {
   "cell_type": "code",
   "execution_count": 9,
   "metadata": {},
   "outputs": [
    {
     "data": {
      "text/plain": [
       "'4'"
      ]
     },
     "execution_count": 9,
     "metadata": {},
     "output_type": "execute_result"
    }
   ],
   "source": [
    "import re\n",
    "\n",
    "phone = re.compile(r'\\d')\n",
    "m = phone.search('4')\n",
    "m.group()\n",
    "phone = re.compile(r'\\d-\\d')\n",
    "m = phone.search('4-4')\n",
    "m.group()\n",
    "\n",
    "d = ['4 ghjfjyrs 4-4']\n",
    "num = re.compile(r'\\d')\n",
    "m = num.search('4-4')\n",
    "m.group()\n"
   ]
  },
  {
   "cell_type": "code",
   "execution_count": 14,
   "metadata": {},
   "outputs": [],
   "source": [
    "r = re.compile(r'\\d(-)?\\d')\n",
    "r.search('4-5')\n",
    "m = r.search('4-5')\n",
    "m.group()\n",
    "m = r.search('45')\n",
    "m.group()\n",
    "\n",
    "\n"
   ]
  },
  {
   "cell_type": "code",
   "execution_count": 15,
   "metadata": {},
   "outputs": [
    {
     "data": {
      "text/plain": [
       "'4-5'"
      ]
     },
     "execution_count": 15,
     "metadata": {},
     "output_type": "execute_result"
    }
   ],
   "source": [
    "m = r.search('4-5')\n",
    "m.group()"
   ]
  },
  {
   "cell_type": "code",
   "execution_count": 16,
   "metadata": {},
   "outputs": [
    {
     "ename": "AttributeError",
     "evalue": "'NoneType' object has no attribute 'group'",
     "output_type": "error",
     "traceback": [
      "\u001b[1;31m---------------------------------------------------------------------------\u001b[0m",
      "\u001b[1;31mAttributeError\u001b[0m                            Traceback (most recent call last)",
      "Cell \u001b[1;32mIn[16], line 2\u001b[0m\n\u001b[0;32m      1\u001b[0m m \u001b[38;5;241m=\u001b[39m r\u001b[38;5;241m.\u001b[39msearch(\u001b[38;5;124m'\u001b[39m\u001b[38;5;124m4=5\u001b[39m\u001b[38;5;124m'\u001b[39m)\n\u001b[1;32m----> 2\u001b[0m \u001b[43mm\u001b[49m\u001b[38;5;241;43m.\u001b[39;49m\u001b[43mgroup\u001b[49m()\n",
      "\u001b[1;31mAttributeError\u001b[0m: 'NoneType' object has no attribute 'group'"
     ]
    }
   ],
   "source": [
    "m = r.search('4=5')\n",
    "m.group()\n"
   ]
  },
  {
   "cell_type": "code",
   "execution_count": 3,
   "metadata": {},
   "outputs": [
    {
     "name": "stdout",
     "output_type": "stream",
     "text": [
      "4-4\n",
      "['4*ghjfjyrs*4-4']\n"
     ]
    }
   ],
   "source": [
    "import re\n",
    "\n",
    "d = ['4 ghjfjyrs 4-4']\n",
    "num = re.compile(r'\\d-\\d')\n",
    "\n",
    "# Поиск первой цифры в каждой строке списка\n",
    "for item in d:\n",
    "    m = num.search(item)\n",
    "    if m:\n",
    "        print(m.group())  # Выводит найденную цифру\n",
    "\n",
    "# Замена пробелов на звездочки в каждой строке списка\n",
    "d = [item.replace(' ', '*') for item in d]\n",
    "\n",
    "print(d) "
   ]
  },
  {
   "cell_type": "code",
   "execution_count": 6,
   "metadata": {},
   "outputs": [
    {
     "name": "stderr",
     "output_type": "stream",
     "text": [
      "<>:3: SyntaxWarning: invalid escape sequence '\\s'\n",
      "<>:3: SyntaxWarning: invalid escape sequence '\\s'\n",
      "C:\\Users\\admin\\AppData\\Local\\Temp\\ipykernel_31220\\919209553.py:3: SyntaxWarning: invalid escape sequence '\\s'\n",
      "  d = [item.replace('\\s', '*') for item in d]\n"
     ]
    },
    {
     "data": {
      "text/plain": [
       "['4 ghjfjyrs 4-4']"
      ]
     },
     "execution_count": 6,
     "metadata": {},
     "output_type": "execute_result"
    }
   ],
   "source": [
    "d = ['4 ghjfjyrs 4-4']\n",
    "num = re.compile(r'^')\n",
    "d = [item.replace('\\s', '*') for item in d]\n",
    "d"
   ]
  },
  {
   "cell_type": "code",
   "execution_count": 5,
   "metadata": {},
   "outputs": [
    {
     "name": "stdout",
     "output_type": "stream",
     "text": [
      "45\n"
     ]
    },
    {
     "data": {
      "text/plain": [
       "'4--5'"
      ]
     },
     "execution_count": 5,
     "metadata": {},
     "output_type": "execute_result"
    }
   ],
   "source": [
    "r = re.compile(r'\\d(-)*\\d')\n",
    "print(r.search('45').group())\n",
    "r.search('4-5').group()\n",
    "r.search('4--5').group()"
   ]
  },
  {
   "cell_type": "code",
   "execution_count": 8,
   "metadata": {},
   "outputs": [
    {
     "ename": "AttributeError",
     "evalue": "'NoneType' object has no attribute 'group'",
     "output_type": "error",
     "traceback": [
      "\u001b[1;31m---------------------------------------------------------------------------\u001b[0m",
      "\u001b[1;31mAttributeError\u001b[0m                            Traceback (most recent call last)",
      "Cell \u001b[1;32mIn[8], line 2\u001b[0m\n\u001b[0;32m      1\u001b[0m r \u001b[38;5;241m=\u001b[39m re\u001b[38;5;241m.\u001b[39mcompile(\u001b[38;5;124mr\u001b[39m\u001b[38;5;124m'\u001b[39m\u001b[38;5;124m\\\u001b[39m\u001b[38;5;124md(-)+\u001b[39m\u001b[38;5;124m\\\u001b[39m\u001b[38;5;124md\u001b[39m\u001b[38;5;124m'\u001b[39m)\n\u001b[1;32m----> 2\u001b[0m \u001b[43mr\u001b[49m\u001b[38;5;241;43m.\u001b[39;49m\u001b[43msearch\u001b[49m\u001b[43m(\u001b[49m\u001b[38;5;124;43m'\u001b[39;49m\u001b[38;5;124;43m45\u001b[39;49m\u001b[38;5;124;43m'\u001b[39;49m\u001b[43m)\u001b[49m\u001b[38;5;241;43m.\u001b[39;49m\u001b[43mgroup\u001b[49m()\n\u001b[0;32m      3\u001b[0m r\u001b[38;5;241m.\u001b[39msearch(\u001b[38;5;124m'\u001b[39m\u001b[38;5;124m4-5\u001b[39m\u001b[38;5;124m'\u001b[39m)\u001b[38;5;241m.\u001b[39mgroup()\n",
      "\u001b[1;31mAttributeError\u001b[0m: 'NoneType' object has no attribute 'group'"
     ]
    }
   ],
   "source": [
    "r = re.compile(r'\\d(-)+\\d')\n",
    "r.search('45').group()\n",
    "r.search('4-5').group()"
   ]
  },
  {
   "cell_type": "code",
   "execution_count": 9,
   "metadata": {},
   "outputs": [
    {
     "ename": "AttributeError",
     "evalue": "'NoneType' object has no attribute 'group'",
     "output_type": "error",
     "traceback": [
      "\u001b[1;31m---------------------------------------------------------------------------\u001b[0m",
      "\u001b[1;31mAttributeError\u001b[0m                            Traceback (most recent call last)",
      "Cell \u001b[1;32mIn[9], line 4\u001b[0m\n\u001b[0;32m      2\u001b[0m r\u001b[38;5;241m.\u001b[39msearch(\u001b[38;5;124m'\u001b[39m\u001b[38;5;124m4--5\u001b[39m\u001b[38;5;124m'\u001b[39m)\u001b[38;5;241m.\u001b[39mgroup()\n\u001b[0;32m      3\u001b[0m r\u001b[38;5;241m.\u001b[39msearch(\u001b[38;5;124m'\u001b[39m\u001b[38;5;124m4--5\u001b[39m\u001b[38;5;124m'\u001b[39m)\u001b[38;5;241m.\u001b[39mgroup()\n\u001b[1;32m----> 4\u001b[0m \u001b[43mr\u001b[49m\u001b[38;5;241;43m.\u001b[39;49m\u001b[43msearch\u001b[49m\u001b[43m(\u001b[49m\u001b[38;5;124;43m'\u001b[39;49m\u001b[38;5;124;43m45\u001b[39;49m\u001b[38;5;124;43m'\u001b[39;49m\u001b[43m)\u001b[49m\u001b[38;5;241;43m.\u001b[39;49m\u001b[43mgroup\u001b[49m()\n\u001b[0;32m      5\u001b[0m r\u001b[38;5;241m.\u001b[39msearch(\u001b[38;5;124m'\u001b[39m\u001b[38;5;124m45\u001b[39m\u001b[38;5;124m'\u001b[39m)\u001b[38;5;241m.\u001b[39mgroup()\n",
      "\u001b[1;31mAttributeError\u001b[0m: 'NoneType' object has no attribute 'group'"
     ]
    }
   ],
   "source": [
    "r = re.compile(r'\\d(-){1,3}\\d')\n",
    "r.search('4--5').group()\n",
    "r.search('4--5').group()\n",
    "r.search('45').group()\n",
    "r.search('45').group()\n"
   ]
  },
  {
   "cell_type": "code",
   "execution_count": 13,
   "metadata": {},
   "outputs": [
    {
     "data": {
      "text/plain": [
       "'4-5'"
      ]
     },
     "execution_count": 13,
     "metadata": {},
     "output_type": "execute_result"
    }
   ],
   "source": [
    "r = re.compile(r'(\\d-\\d)')\n",
    "r.search('4-5 4-5 4-5').group()"
   ]
  },
  {
   "cell_type": "code",
   "execution_count": 16,
   "metadata": {},
   "outputs": [
    {
     "data": {
      "text/plain": [
       "['4-5', '4-5', '4-5']"
      ]
     },
     "execution_count": 16,
     "metadata": {},
     "output_type": "execute_result"
    }
   ],
   "source": [
    "a = r.findall('4-5 4-5 4-5')\n",
    "a"
   ]
  },
  {
   "cell_type": "code",
   "execution_count": 7,
   "metadata": {},
   "outputs": [
    {
     "name": "stdout",
     "output_type": "stream",
     "text": [
      "1\n"
     ]
    }
   ],
   "source": [
    "import urllib.request\n",
    "import re\n",
    "def get_url_count(url):\n",
    "    \n",
    "    try:\n",
    "        with urllib.request.urlopen(url) as webpage:\n",
    "            text = webpage.read().decode('utf-8')\n",
    "        url_reg = re.compile(r'(http(s)?://)')\n",
    "        \n",
    "        return len(url_reg.findall(url)) \n",
    "    except Exception as e:\n",
    "        return e\n",
    "if __name__ == '__main__':\n",
    "    url = 'https://dfedorov.spb.ru/python3/'\n",
    "    print(get_url_count(url))           "
   ]
  },
  {
   "cell_type": "code",
   "execution_count": 8,
   "metadata": {},
   "outputs": [
    {
     "name": "stdout",
     "output_type": "stream",
     "text": [
      "1\n"
     ]
    }
   ],
   "source": [
    "url = 'https://pycode.ru/'\n",
    "print(get_url_count(url))"
   ]
  },
  {
   "cell_type": "code",
   "execution_count": 10,
   "metadata": {},
   "outputs": [
    {
     "data": {
      "text/plain": [
       "['foo', {'bar': ['baz', None, 1.0, 2]}]"
      ]
     },
     "execution_count": 10,
     "metadata": {},
     "output_type": "execute_result"
    }
   ],
   "source": [
    "# JSON позволяет сохранять в файле не отдельные строки, а типы данных, совместимые с Python\n",
    "\n",
    "import json\n",
    "json.dumps(['foo', {'bar': ('baz', None, 1.0, 2)}])\n",
    "\n",
    "json.loads ('[\"foo\", {\"bar\": [\"baz\", null, 1.0, 2]}]')\n",
    "\n"
   ]
  },
  {
   "cell_type": "code",
   "execution_count": 11,
   "metadata": {},
   "outputs": [],
   "source": [
    "def writer (filename, numbers):\n",
    "    import json\n",
    "    try:\n",
    "        with open (filename, 'w') as f_obj:\n",
    "            json.dump(numbers, f_obj)\n",
    "    except Exeption as e:\n",
    "        print(e) \n",
    "if __name__ == \"__main__\":\n",
    "    writer ('numbers.json', [1,3,4,5])\n",
    "               "
   ]
  },
  {
   "cell_type": "code",
   "execution_count": 13,
   "metadata": {},
   "outputs": [
    {
     "name": "stdout",
     "output_type": "stream",
     "text": [
      "[1, 3, 4, 5]\n"
     ]
    }
   ],
   "source": [
    "def reader (filename):\n",
    "    ''' Чтение содержимого json файла '''\n",
    "    import json\n",
    "    try:\n",
    "        with open(filename, 'r') as f_obj:\n",
    "            numbers = json.load(f_obj)\n",
    "        return numbers\n",
    "    except Exception as e:\n",
    "        return e\n",
    "if __name__ == \"__main__\":\n",
    "    print(reader('numbers.json'))            "
   ]
  },
  {
   "cell_type": "code",
   "execution_count": 22,
   "metadata": {},
   "outputs": [
    {
     "name": "stdout",
     "output_type": "stream",
     "text": [
      "     PassengerId  Survived  Pclass  \\\n",
      "0              1         0       3   \n",
      "1              2         1       1   \n",
      "2              3         1       3   \n",
      "3              4         1       1   \n",
      "4              5         0       3   \n",
      "..           ...       ...     ...   \n",
      "886          887         0       2   \n",
      "887          888         1       1   \n",
      "888          889         0       3   \n",
      "889          890         1       1   \n",
      "890          891         0       3   \n",
      "\n",
      "                                                  Name     Sex   Age  SibSp  \\\n",
      "0                              Braund, Mr. Owen Harris    male  22.0      1   \n",
      "1    Cumings, Mrs. John Bradley (Florence Briggs Th...  female  38.0      1   \n",
      "2                               Heikkinen, Miss. Laina  female  26.0      0   \n",
      "3         Futrelle, Mrs. Jacques Heath (Lily May Peel)  female  35.0      1   \n",
      "4                             Allen, Mr. William Henry    male  35.0      0   \n",
      "..                                                 ...     ...   ...    ...   \n",
      "886                              Montvila, Rev. Juozas    male  27.0      0   \n",
      "887                       Graham, Miss. Margaret Edith  female  19.0      0   \n",
      "888           Johnston, Miss. Catherine Helen \"Carrie\"  female   NaN      1   \n",
      "889                              Behr, Mr. Karl Howell    male  26.0      0   \n",
      "890                                Dooley, Mr. Patrick    male  32.0      0   \n",
      "\n",
      "     Parch            Ticket     Fare Cabin Embarked  \n",
      "0        0         A/5 21171   7.2500   NaN        S  \n",
      "1        0          PC 17599  71.2833   C85        C  \n",
      "2        0  STON/O2. 3101282   7.9250   NaN        S  \n",
      "3        0            113803  53.1000  C123        S  \n",
      "4        0            373450   8.0500   NaN        S  \n",
      "..     ...               ...      ...   ...      ...  \n",
      "886      0            211536  13.0000   NaN        S  \n",
      "887      0            112053  30.0000   B42        S  \n",
      "888      2        W./C. 6607  23.4500   NaN        S  \n",
      "889      0            111369  30.0000  C148        C  \n",
      "890      0            370376   7.7500   NaN        Q  \n",
      "\n",
      "[891 rows x 12 columns]\n"
     ]
    }
   ],
   "source": [
    "import pandas as pd\n",
    "import urllib.request\n",
    "\n",
    "with urllib.request.urlopen(\"https://raw.githubusercontent.com/secpy/data/main/titanic.csv\") as file:\n",
    "\n",
    "    df = pd.read_csv(file)\n",
    "    print(df)"
   ]
  },
  {
   "cell_type": "code",
   "execution_count": 23,
   "metadata": {},
   "outputs": [
    {
     "name": "stdout",
     "output_type": "stream",
     "text": [
      "<class 'pandas.core.frame.DataFrame'>\n",
      "RangeIndex: 891 entries, 0 to 890\n",
      "Data columns (total 12 columns):\n",
      " #   Column       Non-Null Count  Dtype  \n",
      "---  ------       --------------  -----  \n",
      " 0   PassengerId  891 non-null    int64  \n",
      " 1   Survived     891 non-null    int64  \n",
      " 2   Pclass       891 non-null    int64  \n",
      " 3   Name         891 non-null    object \n",
      " 4   Sex          891 non-null    object \n",
      " 5   Age          714 non-null    float64\n",
      " 6   SibSp        891 non-null    int64  \n",
      " 7   Parch        891 non-null    int64  \n",
      " 8   Ticket       891 non-null    object \n",
      " 9   Fare         891 non-null    float64\n",
      " 10  Cabin        204 non-null    object \n",
      " 11  Embarked     889 non-null    object \n",
      "dtypes: float64(2), int64(5), object(5)\n",
      "memory usage: 83.7+ KB\n"
     ]
    }
   ],
   "source": [
    "df.info()"
   ]
  },
  {
   "cell_type": "code",
   "execution_count": 29,
   "metadata": {},
   "outputs": [
    {
     "data": {
      "text/plain": [
       "512.33"
      ]
     },
     "execution_count": 29,
     "metadata": {},
     "output_type": "execute_result"
    }
   ],
   "source": [
    "df.Fare\n",
    "cost = round(df['Fare'],2)\n",
    "cost.max()"
   ]
  },
  {
   "cell_type": "code",
   "execution_count": 37,
   "metadata": {},
   "outputs": [],
   "source": [
    "class Person ():\n",
    "    pass\n",
    "home_address = Person()\n",
    "home_address.name = 'Иван Иванов'\n",
    "home_address.line1 = 'Московский пр. 122'\n",
    "home_address.line2 = 'Тихая ул. 12'\n",
    "home_address.city = 'Москва'\n",
    "home_address.state = 'Восточный'\n",
    "home_address.zip_code = '123678'\n",
    "    \n",
    "vacation_homeaddress = Person()\n",
    "vacation_homeaddress.name = 'Иван Иванов'\n",
    "vacation_homeaddress.line1 = 'пр.Мира 12'\n",
    "vacation_homeaddress.line2 = ''\n",
    "vacation_homeaddress.city = 'Коломна'\n",
    "vacation_homeaddress.state = 'Центральный район'\n",
    "vacation_homeaddress.zip_code = '124897'"
   ]
  },
  {
   "cell_type": "code",
   "execution_count": 41,
   "metadata": {},
   "outputs": [
    {
     "name": "stdout",
     "output_type": "stream",
     "text": [
      "Основной адрес проживания: Москва\n",
      "Адрес загородного дома: Коломна\n"
     ]
    }
   ],
   "source": [
    "print('Основной адрес проживания:', home_address.city)\n",
    "print('Адрес загородного дома:', vacation_homeaddress.city)"
   ]
  },
  {
   "cell_type": "code",
   "execution_count": 45,
   "metadata": {},
   "outputs": [],
   "source": [
    "def print_address(address):\n",
    "    print(address.name)\n",
    "    if len (address.line1) > 0:\n",
    "        print(address.line1)\n",
    "    if len (address.line2) > 0:\n",
    "        print(address.line2)\n",
    "    print(address.city + ',' + address.state + ' ' + address.zip_code)        "
   ]
  },
  {
   "cell_type": "code",
   "execution_count": 48,
   "metadata": {},
   "outputs": [
    {
     "name": "stdout",
     "output_type": "stream",
     "text": [
      "Иван Иванов\n",
      "Московский пр. 122\n",
      "Тихая ул. 12\n",
      "Москва,Восточный 123678\n",
      "\n",
      "Иван Иванов\n",
      "пр.Мира 12\n",
      "Коломна,Центральный район 124897\n"
     ]
    }
   ],
   "source": [
    "print_address(home_address)\n",
    "print()\n",
    "print_address(vacation_homeaddress)"
   ]
  },
  {
   "cell_type": "code",
   "execution_count": 55,
   "metadata": {},
   "outputs": [
    {
     "name": "stdout",
     "output_type": "stream",
     "text": [
      "Шарик\n",
      "Собака говорит: Шарик\n"
     ]
    }
   ],
   "source": [
    "class Dog:\n",
    "    def bark(self):\n",
    "        self.name\n",
    "        print(f'Собака говорит: {self.name}')\n",
    "my_dog = Dog()\n",
    "my_dog.name = 'Шарик'\n",
    "print(my_dog.name)\n",
    "my_dog.weight = 20\n",
    "my_dog.age = 3\n",
    "my_dog.bark()          "
   ]
  },
  {
   "cell_type": "code",
   "execution_count": 21,
   "metadata": {},
   "outputs": [
    {
     "name": "stdout",
     "output_type": "stream",
     "text": [
      "Кошка говорит: Барсик\n",
      "Возраст: 3 года\n",
      "Имя: Барсик\n",
      "Вес: 7 кг\n"
     ]
    }
   ],
   "source": [
    "class Cat:\n",
    "    def meow(self):\n",
    "        try:\n",
    "            print('Кошка говорит:', self.name)\n",
    "        except AttributeError as error:\n",
    "            print('Не задано поле name')\n",
    "            print(error)\n",
    "\n",
    "def print_cat(cat):\n",
    "    try:\n",
    "        print('Возраст:', cat.age)\n",
    "        print('Имя:', cat.name)\n",
    "        print('Вес:', cat.weight)\n",
    "    except AttributeError as error:\n",
    "        print(error)\n",
    "def set_name(cat):\n",
    "            \n",
    "\n",
    "# Создание объекта cat и установка его атрибутов\n",
    "cat = Cat()\n",
    "cat.name = 'Барсик'\n",
    "cat.weight = \"7 кг\"\n",
    "cat.age = \"3 года\"\n",
    "\n",
    "# Вызов метода meow и функции print_cat для объекта cat\n",
    "cat.meow()\n",
    "print_cat(cat)"
   ]
  },
  {
   "cell_type": "code",
   "execution_count": 25,
   "metadata": {},
   "outputs": [
    {
     "name": "stdout",
     "output_type": "stream",
     "text": [
      "Лайка\n"
     ]
    }
   ],
   "source": [
    "class Dog:\n",
    "    def __init__(self, new_name):\n",
    "        self.name = new_name\n",
    "    \n",
    "dog = Dog(\"Лайка\")\n",
    "print(dog.name)    "
   ]
  },
  {
   "cell_type": "code",
   "execution_count": 1,
   "metadata": {},
   "outputs": [
    {
     "name": "stdout",
     "output_type": "stream",
     "text": [
      "Лайка\n",
      "Шарик\n"
     ]
    }
   ],
   "source": [
    "class Dog:\n",
    "    def __init__(self, new_name):\n",
    "        self.name = new_name\n",
    "    def set_name (self, new_name):\n",
    "        self.name = new_name\n",
    "    def get_name(self):\n",
    "        return self.name\n",
    "my_dog = Dog('Лайка')\n",
    "print(my_dog.get_name())\n",
    "my_dog.set_name('Шарик') \n",
    "print(my_dog.get_name())\n",
    "          "
   ]
  },
  {
   "cell_type": "code",
   "execution_count": 6,
   "metadata": {},
   "outputs": [
    {
     "data": {
      "image/png": "[encoded data removed]",
      "text/plain": [
       "<Figure size 640x480 with 1 Axes>"
      ]
     },
     "metadata": {},
     "output_type": "display_data"
    }
   ],
   "source": [
    "import matplotlib.pyplot as plt\n",
    "import seaborn; seaborn.set()\n",
    "import numpy as np\n",
    "x = np.arange(10.5, 30.5, 0.5)\n",
    "y = x**5\n",
    "plt.plot (x,y)\n",
    "plt.show()\n"
   ]
  },
  {
   "cell_type": "code",
   "execution_count": 16,
   "metadata": {},
   "outputs": [
    {
     "name": "stdout",
     "output_type": "stream",
     "text": [
      "Родилась новая кошка... Кошка без имени\n",
      "Нет сил играть\n",
      "Кошка говорит: меня зовут Машка\n",
      "Кошка проголодалась...\n",
      "Кошка ест...\n"
     ]
    }
   ],
   "source": [
    "class Cat:\n",
    "    def __init__(self, new_name='Кошка без имени'):\n",
    "        self._name = new_name\n",
    "        print(f'Родилась новая кошка... {self._name}')\n",
    "        self._eat = 0\n",
    "\n",
    "    def self_name(self, new_name):\n",
    "        self._name = new_name\n",
    "\n",
    "    def meow(self):\n",
    "        if self._name == 'Кошка без имени':\n",
    "            print('Я не могу мяукнуть, меня не назвали!')\n",
    "        else:\n",
    "            text = 'Кошка говорит: меня зовут {0}'\n",
    "            print(text.format(self._name))\n",
    "            if self._eat == 0:\n",
    "                print('Кошка проголодалась...')\n",
    "\n",
    "    def gaming(self):\n",
    "        if self._name == 'Кошка без имени':\n",
    "            print('Мне грустно играть, меня не назвали!')\n",
    "        elif self._eat == 0:\n",
    "            print('Нет сил играть')\n",
    "        else:\n",
    "            print('Кошка играет с мячиком...')\n",
    "            self._eat -= 1\n",
    "\n",
    "    def eating(self):\n",
    "        self._eat += 1\n",
    "        print('Кошка ест...')\n",
    "\n",
    "\n",
    "my_cat1 = Cat()\n",
    "my_cat1.self_name('Машка')\n",
    "my_cat1.gaming()\n",
    "my_cat1.meow()\n",
    "my_cat1.eating()\n"
   ]
  },
  {
   "cell_type": "code",
   "execution_count": 12,
   "metadata": {},
   "outputs": [
    {
     "name": "stdout",
     "output_type": "stream",
     "text": [
      "Vurdalak Level Is: 5, Race Is: Orc, Health Is 100\n",
      "Hero Alexander is starting...\n",
      "Alexander Level Is: 4, Race Is: Human, Health Is 100\n",
      "Hero Vurdalak is starting...\n"
     ]
    }
   ],
   "source": [
    "from hero import Hero\n",
    "myhero1 = Hero('Vurdalak', 5, 'Orc') \n",
    "myhero2 = Hero('Alexander', 4, 'Human')\n",
    "myhero1.show_hero()\n",
    "myhero2.move()\n",
    "myhero1.set_health(70)\n",
    "myhero2.show_hero()\n",
    "myhero2.level_up()  \n",
    "myhero1.move()             \n",
    "        "
   ]
  }
 ],
 "metadata": {
  "kernelspec": {
   "display_name": "Python 3",
   "language": "python",
   "name": "python3"
  },
  "language_info": {
   "codemirror_mode": {
    "name": "ipython",
    "version": 3
   },
   "file_extension": ".py",
   "mimetype": "text/x-python",
   "name": "python",
   "nbconvert_exporter": "python",
   "pygments_lexer": "ipython3",
   "version": "3.12.2"
  }
 },
 "nbformat": 4,
 "nbformat_minor": 2
}
